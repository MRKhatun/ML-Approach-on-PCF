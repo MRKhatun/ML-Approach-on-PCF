{
 "cells": [
  {
   "cell_type": "markdown",
   "id": "01be8cba",
   "metadata": {},
   "source": [
    "# Data Preprocessing "
   ]
  },
  {
   "cell_type": "code",
   "execution_count": 298,
   "id": "e415267c",
   "metadata": {},
   "outputs": [],
   "source": [
    "import time\n",
    "start = time.time()"
   ]
  },
  {
   "cell_type": "code",
   "execution_count": 299,
   "id": "2fe424fb",
   "metadata": {},
   "outputs": [],
   "source": [
    "import pandas as pd\n",
    "import numpy as np\n",
    "from sklearn.ensemble import GradientBoostingRegressor\n",
    "\"\"\"import matplotlib.pyplot as plt\n",
    "import seaborn as sns\n",
    "from sklearn.linear_model import LinearRegression\n",
    "from xgboost import XGBRegressor\n",
    "from lightgbm import LGBMRegressor\n",
    "from sklearn.ensemble import GradientBoostingRegressor\n",
    "from sklearn.neighbors import KNeighborsRegressor\n",
    "from sklearn.ensemble import RandomForestRegressor\n",
    "from sklearn.tree import DecisionTreeRegressor\n",
    "\n",
    "\n",
    "from sklearn.metrics import mean_squared_log_error\n",
    "\"\"\"\n",
    "from sklearn.metrics import r2_score,mean_squared_error\n",
    "from sklearn.model_selection import train_test_split"
   ]
  },
  {
   "cell_type": "code",
   "execution_count": 300,
   "id": "69183525",
   "metadata": {},
   "outputs": [],
   "source": [
    "df1 = pd.read_excel('D:\\Academic\\Research\\PCF Models\\ML_PCF by SUNNY CHUGH\\pcf_modeSoln_data_1.xlsx', sheet_name='SiO2-air-rings-4-dBYp-0.7')\n",
    "df2 = pd.read_excel('D:\\Academic\\Research\\PCF Models\\ML_PCF by SUNNY CHUGH\\pcf_modeSoln_data_1.xlsx', sheet_name='SiO2-air-rings-4-dBYp-0.8')\n",
    "df3 = pd.read_excel('D:\\Academic\\Research\\PCF Models\\ML_PCF by SUNNY CHUGH\\pcf_modeSoln_data_1.xlsx', sheet_name='SiO2-air-rings-4-dBYp-0.9')\n",
    "df4 = pd.read_excel('D:\\Academic\\Research\\PCF Models\\ML_PCF by SUNNY CHUGH\\pcf_modeSoln_data_1.xlsx', sheet_name='SiO2-air-rings-4-dBYp-0.6')\n",
    "df5 = pd.read_excel('D:\\Academic\\Research\\PCF Models\\ML_PCF by SUNNY CHUGH\\pcf_modeSoln_data_1.xlsx', sheet_name='SiO2-air-rings-5-dBYp-0.7')\n",
    "df6 = pd.read_excel('D:\\Academic\\Research\\PCF Models\\ML_PCF by SUNNY CHUGH\\pcf_modeSoln_data_1.xlsx', sheet_name='SiO2-air-rings-5-dBYp-0.8')\n",
    "df7 = pd.read_excel('D:\\Academic\\Research\\PCF Models\\ML_PCF by SUNNY CHUGH\\pcf_modeSoln_data_1.xlsx', sheet_name='SiO2-air-rings-5-dBYp-0.9')\n",
    "df8 = pd.read_excel('D:\\Academic\\Research\\PCF Models\\ML_PCF by SUNNY CHUGH\\pcf_modeSoln_data_1.xlsx', sheet_name='SiO2-air-rings-5-dBYp-0.6')"
   ]
  },
  {
   "cell_type": "code",
   "execution_count": 301,
   "id": "56b8b999",
   "metadata": {},
   "outputs": [],
   "source": [
    "combined_df = pd.concat([df1, df2, df3, df4, df5, df6, df7, df8]).drop_duplicates().reset_index(drop=True)"
   ]
  },
  {
   "cell_type": "code",
   "execution_count": 302,
   "id": "e3233f30",
   "metadata": {},
   "outputs": [],
   "source": [
    "data=combined_df"
   ]
  },
  {
   "cell_type": "markdown",
   "id": "db925f58",
   "metadata": {},
   "source": [
    "# Scalling"
   ]
  },
  {
   "cell_type": "code",
   "execution_count": 303,
   "id": "2431f259",
   "metadata": {},
   "outputs": [],
   "source": [
    "from sklearn.preprocessing import MinMaxScaler\n",
    "from pandas import DataFrame\n",
    "scaler1 = MinMaxScaler()  \n",
    "scaler2 = MinMaxScaler()  \n"
   ]
  },
  {
   "cell_type": "markdown",
   "id": "00702a8b",
   "metadata": {},
   "source": [
    "**core-ref-index-at-wl-1.55um : [1.444] clad-ref-index : [1] have same value for all rows... no change in value. So ignored tohe two colums.**"
   ]
  },
  {
   "cell_type": "code",
   "execution_count": 304,
   "id": "95132496",
   "metadata": {},
   "outputs": [],
   "source": [
    "out_var_datafile_1 = data[['neff']]\n",
    "#datafile_1=data[['no-of-\\nrings', 'diaBYpitch', 'pitch\\n(um)', 'wl\\n(um)']]\n",
    "\n",
    "scaler1.fit(data)\n",
    "scaler2.fit(out_var_datafile_1)\n",
    "\n",
    "scaler_datafile_1 = scaler1.transform(data)\n",
    "scaler_out_datafile_1 = scaler2.transform(out_var_datafile_1)\n",
    "\n",
    "scaler_datafile=DataFrame(scaler_datafile_1,  columns = data.columns)\n",
    "X=scaler_datafile[['no-of-\\nrings', 'diaBYpitch', 'pitch\\n(um)', 'wl\\n(um)']]\n",
    "Y=DataFrame(scaler_out_datafile_1,  columns = out_var_datafile_1.columns)\n",
    "\n"
   ]
  },
  {
   "cell_type": "markdown",
   "id": "832a23d3",
   "metadata": {},
   "source": [
    "#data for validation with actual data#"
   ]
  },
  {
   "cell_type": "code",
   "execution_count": 305,
   "id": "d46868aa",
   "metadata": {},
   "outputs": [],
   "source": [
    "#from sklearn.model_selection import train_test_split\n",
    "#x=data[['no-of-\\nrings','diaBYpitch','pitch\\n(um)','wl\\n(um)','Aeff\\n(um^2)','conf-loss\\n(dB/cm)']]\n",
    "#x=data.drop(columns=['conf-loss\\n(dB/cm)','dispersion\\n(ps/km.nm)','conf-loss-in-log10\\n(dB/cm)','conf-loss\\n(dB/cm)'],axis=1)\n",
    "#y=data['neff']\n",
    "x_train, x_test, y_train, y_test = train_test_split(X, Y, test_size=0.25, random_state=42)"
   ]
  },
  {
   "cell_type": "markdown",
   "id": "11b16e9c",
   "metadata": {},
   "source": [
    "# **RandomForestRegressor**"
   ]
  },
  {
   "cell_type": "code",
   "execution_count": 306,
   "id": "e9931afe",
   "metadata": {},
   "outputs": [
    {
     "name": "stderr",
     "output_type": "stream",
     "text": [
      "C:\\Users\\mrksm\\AppData\\Roaming\\Python\\Python311\\site-packages\\sklearn\\ensemble\\_gb.py:437: DataConversionWarning: A column-vector y was passed when a 1d array was expected. Please change the shape of y to (n_samples, ), for example using ravel().\n",
      "  y = column_or_1d(y, warn=True)\n"
     ]
    },
    {
     "name": "stdout",
     "output_type": "stream",
     "text": [
      "Train time: 1.2561850547790527\n",
      "Test time: 0.001956939697265625\n",
      "MSE train data: 0.0001108, MSE test data: 0.0001756\n",
      "R2 train data: 0.9954778, R2 test data: 0.9899913\n"
     ]
    }
   ],
   "source": [
    "modelGB = GradientBoostingRegressor(n_estimators=200, learning_rate=0.1, max_depth=4)\n",
    "modelGB.fit(x_train,y_train)\n",
    "\n",
    "y_train_pred = modelRF.predict(x_train)\n",
    "end = time.time()\n",
    "print(\"Train time:\",end - start)\n",
    "\n",
    "start = time.time()\n",
    "y_test_pred = modelRF.predict(x_test)\n",
    "end = time.time()\n",
    "print(\"Test time:\",end - start)\n",
    "\n",
    "RF_train_MSE=mean_squared_error(y_train,y_train_pred)\n",
    "RF_test_MSE=mean_squared_error(y_test,y_test_pred)\n",
    "RF_train_r2=r2_score(y_train,y_train_pred)\n",
    "RF_test_r2=r2_score(y_test,y_test_pred)\n",
    "\n",
    "\n",
    "print('MSE train data: %.7f, MSE test data: %.7f' % (RF_train_MSE,RF_test_MSE))\n",
    "print('R2 train data: %.7f, R2 test data: %.7f' % (RF_train_r2,RF_test_r2))"
   ]
  }
 ],
 "metadata": {
  "kernelspec": {
   "display_name": "Python 3 (ipykernel)",
   "language": "python",
   "name": "python3"
  },
  "language_info": {
   "codemirror_mode": {
    "name": "ipython",
    "version": 3
   },
   "file_extension": ".py",
   "mimetype": "text/x-python",
   "name": "python",
   "nbconvert_exporter": "python",
   "pygments_lexer": "ipython3",
   "version": "3.11.5"
  }
 },
 "nbformat": 4,
 "nbformat_minor": 5
}
